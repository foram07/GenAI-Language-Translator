{
  "cells": [
    {
      "cell_type": "code",
      "execution_count": 28,
      "metadata": {
        "id": "-E-T4pOysiQs"
      },
      "outputs": [],
      "source": [
        "!pip install -q langchain langchain_groq streamlit"
      ]
    },
    {
      "cell_type": "code",
      "execution_count": null,
      "metadata": {
        "colab": {
          "base_uri": "https://localhost:8080/"
        },
        "id": "CoVNzwRgs0ta",
        "outputId": "31076c3d-efbf-456f-f7eb-43d742424310"
      },
      "outputs": [],
      "source": [
        "!npm install localtunnel"
      ]
    },
    {
      "cell_type": "code",
      "execution_count": null,
      "metadata": {
        "colab": {
          "base_uri": "https://localhost:8080/"
        },
        "id": "EQ7_1XWjvJ2V",
        "outputId": "894d14a7-560d-4221-b68e-661ee31b2c13"
      },
      "outputs": [],
      "source": [
        "!npm audit"
      ]
    },
    {
      "cell_type": "code",
      "execution_count": 31,
      "metadata": {
        "id": "DhCEni4ws3aU"
      },
      "outputs": [],
      "source": [
        "import os\n",
        "from google.colab import userdata\n",
        "os.environ['GROQ_API_KEY'] = userdata.get('GROQ_API_KEY')\n"
      ]
    },
    {
      "cell_type": "code",
      "execution_count": 32,
      "metadata": {
        "colab": {
          "base_uri": "https://localhost:8080/"
        },
        "id": "gcsYEroXt5XH",
        "outputId": "09252135-ee95-4fcf-951b-d9150ebe2b0a"
      },
      "outputs": [
        {
          "name": "stdout",
          "output_type": "stream",
          "text": [
            "Overwriting app.py\n"
          ]
        }
      ],
      "source": [
        "%%writefile app.py\n",
        "import streamlit as st\n",
        "from langchain_groq import ChatGroq\n",
        "from langchain_core.prompts import ChatPromptTemplate\n",
        "from langchain_core.output_parsers import StrOutputParser\n",
        "import os\n",
        "\n",
        "hf_token = os.getenv(\"HF_TOKEN\")\n",
        "\n",
        "# Streamlit Page Config\n",
        "st.set_page_config(page_title=\"GenAI Translator\", page_icon=\"🌐\", layout=\"centered\")\n",
        "\n",
        "# Custom CSS\n",
        "st.markdown(\"\"\"\n",
        "    <style>\n",
        "        .title {\n",
        "            font-size: 42px;\n",
        "            font-weight: 700;\n",
        "            color: #3C3C3C;\n",
        "            text-align: center;\n",
        "            padding-top: 20px;\n",
        "        }\n",
        "        .subtext {\n",
        "            font-size: 18px;\n",
        "            color: #555;\n",
        "            text-align: center;\n",
        "            margin-bottom: 30px;\n",
        "        }\n",
        "        .translate-box {\n",
        "            background-color: #f9f9f9;\n",
        "            padding: 20px;\n",
        "            border-radius: 12px;\n",
        "            border: 1px solid #e0e0e0;\n",
        "        }\n",
        "        .language-section {\n",
        "            background-color: #ffffff;\n",
        "            padding: 10px 20px 20px 20px;\n",
        "            border-radius: 12px;\n",
        "            border: 1px solid #ddd;\n",
        "            margin-top: 20px;\n",
        "        }\n",
        "    </style>\n",
        "\"\"\", unsafe_allow_html=True)\n",
        "\n",
        "st.markdown('<div class=\"title\">🌐 GenAI Translator</div>', unsafe_allow_html=True)\n",
        "st.markdown('<div class=\"subtext\">Translate English text into multiple languages using an AI-powered translator</div>', unsafe_allow_html=True)\n",
        "\n",
        "# Define the model\n",
        "model = ChatGroq(model=\"llama-3.3-70b-versatile\", temperature=0)\n",
        "\n",
        "# Translator logic\n",
        "def translator_text(text, language):\n",
        "    prompt = ChatPromptTemplate.from_messages([\n",
        "        (\"system\", f\"\"\"You are a professional translator. Your task is to accurately translate the given English text into {language}.\n",
        "        - Preserve the original meaning, tone, and context.\n",
        "        - Provide a natural, fluent translation.\n",
        "        - Avoid unnecessary explanations or additional text—return only the translated sentence.\n",
        "        \"\"\"),\n",
        "        (\"human\", \"{text}\"),\n",
        "    ])\n",
        "    chain = prompt | model | StrOutputParser()\n",
        "    return chain.invoke({\"text\": text})\n",
        "\n",
        "# Language selection\n",
        "st.markdown('<div class=\"language-section\"><h4>🌍 Select Target Languages:</h4>', unsafe_allow_html=True)\n",
        "\n",
        "selected_languages = []\n",
        "\n",
        "with st.expander(\"🇮🇳 Indian Languages\"):\n",
        "    col1, col2 = st.columns(2)\n",
        "    with col1:\n",
        "        if st.checkbox(\"Hindi\"):\n",
        "            selected_languages.append(\"Hindi\")\n",
        "        if st.checkbox(\"Tamil\"):\n",
        "            selected_languages.append(\"Tamil\")\n",
        "    with col2:\n",
        "        if st.checkbox(\"Malayalam\"):\n",
        "            selected_languages.append(\"Malayalam\")\n",
        "\n",
        "with st.expander(\"🌍 European Languages\"):\n",
        "    col1, col2 = st.columns(2)\n",
        "    with col1:\n",
        "        if st.checkbox(\"French\"):\n",
        "            selected_languages.append(\"French\")\n",
        "        if st.checkbox(\"Spanish\"):\n",
        "            selected_languages.append(\"Spanish\")\n",
        "    with col2:\n",
        "        if st.checkbox(\"German\"):\n",
        "            selected_languages.append(\"German\")\n",
        "        if st.checkbox(\"Portuguese\"):\n",
        "            selected_languages.append(\"Portuguese\")\n",
        "\n",
        "with st.expander(\"🌏 Asian & Middle Eastern\"):\n",
        "    col1, col2 = st.columns(2)\n",
        "    with col1:\n",
        "        if st.checkbox(\"Chinese\"):\n",
        "            selected_languages.append(\"Chinese\")\n",
        "        if st.checkbox(\"Japanese\"):\n",
        "            selected_languages.append(\"Japanese\")\n",
        "    with col2:\n",
        "        if st.checkbox(\"Arabic\"):\n",
        "            selected_languages.append(\"Arabic\")\n",
        "\n",
        "st.markdown('</div>', unsafe_allow_html=True)\n",
        "\n",
        "# Input Text Area\n",
        "user_input = st.text_area(\"✍️ Enter text to translate\", \"\", height=150, placeholder=\"Write your English text here...\")\n",
        "\n",
        "# Translate Button\n",
        "if st.button(\"🚀 Translate\"):\n",
        "    if user_input.strip():\n",
        "        with st.spinner(\"🔄 Translating... Please wait...\"):\n",
        "            translations = {lang: translator_text(user_input, lang) for lang in selected_languages}\n",
        "        st.success(\"✅ Translation Complete!\")\n",
        "        st.subheader(\"📜 Translations:\")\n",
        "        for lang, translation in translations.items():\n",
        "            st.markdown(f\"**{lang}:** {translation}\")\n",
        "    else:\n",
        "        st.warning(\"⚠️ Please enter some text to translate.\")\n",
        "st.markdown('</div>', unsafe_allow_html=True)\n",
        "\n"
      ]
    },
    {
      "cell_type": "code",
      "execution_count": null,
      "metadata": {
        "colab": {
          "base_uri": "https://localhost:8080/"
        },
        "id": "jlpFqdtnHmzm",
        "outputId": "cbcbcc1a-2d95-4fd2-85af-32260d0aa8a4"
      },
      "outputs": [],
      "source": [
        "!streamlit run app.py &>/content/logs.txt & npx localtunnel --port 8501"
      ]
    }
  ],
  "metadata": {
    "colab": {
      "provenance": []
    },
    "kernelspec": {
      "display_name": "Python 3",
      "name": "python3"
    },
    "language_info": {
      "name": "python"
    }
  },
  "nbformat": 4,
  "nbformat_minor": 0
}
